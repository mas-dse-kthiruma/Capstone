{
 "cells": [
  {
   "cell_type": "code",
   "execution_count": 16,
   "metadata": {
    "collapsed": false
   },
   "outputs": [
    {
     "name": "stdout",
     "output_type": "stream",
     "text": [
      "Populating the interactive namespace from numpy and matplotlib\n"
     ]
    }
   ],
   "source": [
    "%pylab inline\n",
    "%matplotlib inline\n",
    "import pandas as pd\n",
    "import json"
   ]
  },
  {
   "cell_type": "code",
   "execution_count": 17,
   "metadata": {
    "collapsed": false
   },
   "outputs": [],
   "source": [
    "df_tags = pd.read_json('tags.json')\n",
    "df_tags_by_rows = df_tags.T"
   ]
  },
  {
   "cell_type": "code",
   "execution_count": 18,
   "metadata": {
    "collapsed": false
   },
   "outputs": [
    {
     "data": {
      "text/html": [
       "<div>\n",
       "<table border=\"1\" class=\"dataframe\">\n",
       "  <thead>\n",
       "    <tr style=\"text-align: right;\">\n",
       "      <th></th>\n",
       "      <th>contexts</th>\n",
       "      <th>name</th>\n",
       "      <th>network</th>\n",
       "      <th>paging</th>\n",
       "      <th>sensorpoints</th>\n",
       "      <th>template</th>\n",
       "      <th>total</th>\n",
       "      <th>uri</th>\n",
       "    </tr>\n",
       "  </thead>\n",
       "  <tbody>\n",
       "    <tr>\n",
       "      <th>000581ec-54ef-4a5f-ae10-706817b7efe3</th>\n",
       "      <td>[{u'tag': u'EBU3B', u'id': 155971, u'keyword':...</td>\n",
       "      <td>Average Supply Flow EBU3B RM-3xxx</td>\n",
       "      <td>BACNET</td>\n",
       "      <td>{u'limit': 1000, u'offset': 0}</td>\n",
       "      <td>[{u'from_template': True, u'update_period': 0,...</td>\n",
       "      <td>Average Supply Flow</td>\n",
       "      <td>5</td>\n",
       "      <td>https://bd-datas1.ucsd.edu/admin/api/sensors/0...</td>\n",
       "    </tr>\n",
       "  </tbody>\n",
       "</table>\n",
       "</div>"
      ],
      "text/plain": [
       "                                                                               contexts  \\\n",
       "000581ec-54ef-4a5f-ae10-706817b7efe3  [{u'tag': u'EBU3B', u'id': 155971, u'keyword':...   \n",
       "\n",
       "                                                                   name  \\\n",
       "000581ec-54ef-4a5f-ae10-706817b7efe3  Average Supply Flow EBU3B RM-3xxx   \n",
       "\n",
       "                                     network                          paging  \\\n",
       "000581ec-54ef-4a5f-ae10-706817b7efe3  BACNET  {u'limit': 1000, u'offset': 0}   \n",
       "\n",
       "                                                                           sensorpoints  \\\n",
       "000581ec-54ef-4a5f-ae10-706817b7efe3  [{u'from_template': True, u'update_period': 0,...   \n",
       "\n",
       "                                                 template total  \\\n",
       "000581ec-54ef-4a5f-ae10-706817b7efe3  Average Supply Flow     5   \n",
       "\n",
       "                                                                                    uri  \n",
       "000581ec-54ef-4a5f-ae10-706817b7efe3  https://bd-datas1.ucsd.edu/admin/api/sensors/0...  "
      ]
     },
     "execution_count": 18,
     "metadata": {},
     "output_type": "execute_result"
    }
   ],
   "source": [
    "df_tags_by_rows.head(1)"
   ]
  },
  {
   "cell_type": "code",
   "execution_count": 85,
   "metadata": {
    "collapsed": false
   },
   "outputs": [
    {
     "data": {
      "text/plain": [
       "8"
      ]
     },
     "execution_count": 85,
     "metadata": {},
     "output_type": "execute_result"
    }
   ],
   "source": [
    "df_tags_by_rows.network.nunique()"
   ]
  },
  {
   "cell_type": "code",
   "execution_count": 81,
   "metadata": {
    "collapsed": false
   },
   "outputs": [
    {
     "data": {
      "text/plain": [
       "387"
      ]
     },
     "execution_count": 81,
     "metadata": {},
     "output_type": "execute_result"
    }
   ],
   "source": [
    "df_tags_by_rows.template.nunique()"
   ]
  },
  {
   "cell_type": "code",
   "execution_count": 78,
   "metadata": {
    "collapsed": false
   },
   "outputs": [
    {
     "data": {
      "text/plain": [
       "000581ec-54ef-4a5f-ae10-706817b7efe3                                         3xxx\n",
       "00138452-8623-11e3-9443-00163e005319                            Unreliable Sensor\n",
       "0017902c-74c9-11e2-b454-00163e005319                             Occupied Command\n",
       "001a5e8e-77de-11e2-bad4-00163e005319                             Supply Vel Press\n",
       "001b6972-77df-11e2-83c4-00163e005319                             Warm/Cool Adjust\n",
       "001bcf80-74c8-11e2-a42d-00163e005319                      Actual Cooling Setpoint\n",
       "0020605e-3773-11e3-9be2-00163e005319                         Occupant Information\n",
       "0023ced6-1726-4f7c-b5c7-9c7bd01de974                                         1xxx\n",
       "00269112-1d9f-4035-ae46-1874b7c0a54a                Aura Presence Sensor CSE 2150\n",
       "00331d28-862b-11e3-88a2-00163e005319                                        Stuck\n",
       "00341b10-f599-11e2-b6b7-00163e005319                        HVAC Zone Information\n",
       "0034d026-8628-11e3-9443-00163e005319                       Setpoint|Command Error\n",
       "0035614c-862a-11e3-80b6-00163e005319                                      Leakage\n",
       "0046b56a-8629-11e3-88a2-00163e005319                       Setpoint|Command Error\n",
       "004884fa-8622-11e3-88a2-00163e005319                            Unreliable Sensor\n",
       "0048dc5e-74c9-11e2-a42d-00163e005319                             Occupied Command\n",
       "004fc39e-74c8-11e2-b454-00163e005319                              Damper Position\n",
       "0050ee6e-ed60-40e8-bc19-3a373d102524               Aura Presence Sensor CSE 4200M\n",
       "0052a168-77de-11e2-83c4-00163e005319                      Actual Cooling Setpoint\n",
       "0057e17c-77df-11e2-bad4-00163e005319                             Supply Vel Press\n",
       "005e2d18-f95b-11e2-8997-00163e005319           HVAC Zone Control Schedule Weekday\n",
       "006464a6-8625-11e3-92f8-00163e005319                       Setpoint|Command Error\n",
       "00674480-7803-11e3-ad5b-00163e005319                     Actual Supply Flow Error\n",
       "006c4918-f599-11e2-b6b7-00163e005319                        HVAC Zone Information\n",
       "006ff984-8624-11e3-80b6-00163e005319                                        Stuck\n",
       "00724d36-77e0-11e2-83c4-00163e005319                         Reheat Valve Command\n",
       "007b54e6-74c8-11e2-a42d-00163e005319                           Actual Supply Flow\n",
       "008678c6-77de-11e2-bad4-00163e005319                      Actual Heating Setpoint\n",
       "008b1d62-77df-11e2-83c4-00163e005319                                         3223\n",
       "008d4bbc-8627-11e3-9443-00163e005319                       Setpoint|Command Error\n",
       "                                                          ...                    \n",
       "ff5751ce-8627-11e3-80b6-00163e005319                       Setpoint|Command Error\n",
       "ff58b55e-74c7-11e2-a42d-00163e005319                           Actual Supply Flow\n",
       "ff6de6e2-7802-11e3-ad5b-00163e005319                     Actual Supply Flow Error\n",
       "ff70d3e0-74c8-11e2-a42d-00163e005319                             Occupied Command\n",
       "ff7c5694-77dd-11e2-83c4-00163e005319                           Actual Supply Flow\n",
       "ff7edb90-f95a-11e2-a67b-00163e005319           HVAC Zone Control Schedule Weekday\n",
       "ff82e192-77df-11e2-bad4-00163e005319                            Occupied Htg Flow\n",
       "ff854c6c-77de-11e2-bad4-00163e005319                              Damper Position\n",
       "ff885906-a1e9-4191-a6ba-7c36442ac1d9               Aura Presence Sensor CSE 2100A\n",
       "ff8a18ba-74c7-11e2-b454-00163e005319                             Zone Temperature\n",
       "ff982892-8623-11e3-92f8-00163e005319                                        Stuck\n",
       "ff9d1d08-8622-11e3-80b6-00163e005319                            Unreliable Sensor\n",
       "ffa80400-74c8-11e2-b454-00163e005319                             Occupied Command\n",
       "ffa98eca-77dd-11e2-bad4-00163e005319                             Zone Temperature\n",
       "ffad9a2c-77df-11e2-83c4-00163e005319                              Cooling Command\n",
       "ffb4a9ec-8626-11e3-92f8-00163e005319                       Setpoint|Command Error\n",
       "ffbb023a-77de-11e2-83c4-00163e005319                                  supply flow\n",
       "ffc1eb86-8624-11e3-88a2-00163e005319                       Setpoint|Command Error\n",
       "ffc2859c-74c7-11e2-a42d-00163e005319                                        1213A\n",
       "ffc2ec74-f598-11e2-b6b7-00163e005319                        HVAC Zone Information\n",
       "ffd4d820-8621-11e3-9443-00163e005319                            Unreliable Sensor\n",
       "ffdb7556-74c8-11e2-a42d-00163e005319                             Occupied Command\n",
       "ffdb8dba-77df-11e2-bad4-00163e005319                              Heating Command\n",
       "ffdcd7c5-714d-49cf-854d-8c9cd008124d    [u'%s %s', u'Occupancy Sensor', u'EBU3B']\n",
       "ffe0ceee-77dd-11e2-83c4-00163e005319                                         2122\n",
       "ffe19e52-7802-11e3-bc66-00163e005319                     Actual Supply Flow Error\n",
       "ffe7df26-77de-11e2-bad4-00163e005319                  zone temperature\\south stat\n",
       "ffecae6a-8625-11e3-92f8-00163e005319                       Setpoint|Command Error\n",
       "ffee87dc-74c7-11e2-b454-00163e005319                             Supply Vel Press\n",
       "fff02cdc-f95a-11e2-a67b-00163e005319           HVAC Zone Control Schedule Weekday\n",
       "dtype: object"
      ]
     },
     "execution_count": 78,
     "metadata": {},
     "output_type": "execute_result"
    }
   ],
   "source": [
    "df_tags_by_rows.name.str.split('-').map(lambda x:x[-1])"
   ]
  },
  {
   "cell_type": "code",
   "execution_count": 19,
   "metadata": {
    "collapsed": false
   },
   "outputs": [],
   "source": [
    "dict_col = df_tags_by_rows.pop('contexts')\n",
    "df_contexts = pd.DataFrame(dict_col)"
   ]
  },
  {
   "cell_type": "code",
   "execution_count": 20,
   "metadata": {
    "collapsed": false
   },
   "outputs": [],
   "source": [
    "dict_col = df_contexts.pop('contexts')\n",
    "df_contexts = pd.concat([df_contexts, dict_col.apply(pd.Series)], axis=1)\n",
    "df_contexts = pd.DataFrame(df_contexts.stack())"
   ]
  },
  {
   "cell_type": "code",
   "execution_count": 21,
   "metadata": {
    "collapsed": false
   },
   "outputs": [],
   "source": [
    "df_contexts.columns = ['inner']\n",
    "dict_col = df_contexts.pop('inner')\n",
    "df_contexts = pd.concat([df_contexts, dict_col.apply(pd.Series)], axis=1)\n",
    "df_contexts_flat = df_contexts.reset_index()"
   ]
  },
  {
   "cell_type": "code",
   "execution_count": 22,
   "metadata": {
    "collapsed": false
   },
   "outputs": [
    {
     "data": {
      "text/html": [
       "<div>\n",
       "<table border=\"1\" class=\"dataframe\">\n",
       "  <thead>\n",
       "    <tr style=\"text-align: right;\">\n",
       "      <th></th>\n",
       "      <th>level_0</th>\n",
       "      <th>level_1</th>\n",
       "      <th>id</th>\n",
       "      <th>keyword</th>\n",
       "      <th>tag</th>\n",
       "      <th>uri</th>\n",
       "    </tr>\n",
       "  </thead>\n",
       "  <tbody>\n",
       "    <tr>\n",
       "      <th>0</th>\n",
       "      <td>000581ec-54ef-4a5f-ae10-706817b7efe3</td>\n",
       "      <td>0</td>\n",
       "      <td>155971</td>\n",
       "      <td>building</td>\n",
       "      <td>EBU3B</td>\n",
       "      <td>/admin/api/contexts/155971</td>\n",
       "    </tr>\n",
       "    <tr>\n",
       "      <th>1</th>\n",
       "      <td>000581ec-54ef-4a5f-ae10-706817b7efe3</td>\n",
       "      <td>1</td>\n",
       "      <td>2</td>\n",
       "      <td>campus</td>\n",
       "      <td>Main</td>\n",
       "      <td>/admin/api/contexts/2</td>\n",
       "    </tr>\n",
       "    <tr>\n",
       "      <th>2</th>\n",
       "      <td>000581ec-54ef-4a5f-ae10-706817b7efe3</td>\n",
       "      <td>2</td>\n",
       "      <td>156189</td>\n",
       "      <td>floor</td>\n",
       "      <td>Flr-3</td>\n",
       "      <td>/admin/api/contexts/156189</td>\n",
       "    </tr>\n",
       "    <tr>\n",
       "      <th>3</th>\n",
       "      <td>000581ec-54ef-4a5f-ae10-706817b7efe3</td>\n",
       "      <td>3</td>\n",
       "      <td>1</td>\n",
       "      <td>institution</td>\n",
       "      <td>UCSD</td>\n",
       "      <td>/admin/api/contexts/1</td>\n",
       "    </tr>\n",
       "    <tr>\n",
       "      <th>4</th>\n",
       "      <td>000581ec-54ef-4a5f-ae10-706817b7efe3</td>\n",
       "      <td>4</td>\n",
       "      <td>157430</td>\n",
       "      <td>room</td>\n",
       "      <td>RM-3xxx</td>\n",
       "      <td>/admin/api/contexts/157430</td>\n",
       "    </tr>\n",
       "  </tbody>\n",
       "</table>\n",
       "</div>"
      ],
      "text/plain": [
       "                                level_0  level_1      id      keyword  \\\n",
       "0  000581ec-54ef-4a5f-ae10-706817b7efe3        0  155971     building   \n",
       "1  000581ec-54ef-4a5f-ae10-706817b7efe3        1       2       campus   \n",
       "2  000581ec-54ef-4a5f-ae10-706817b7efe3        2  156189        floor   \n",
       "3  000581ec-54ef-4a5f-ae10-706817b7efe3        3       1  institution   \n",
       "4  000581ec-54ef-4a5f-ae10-706817b7efe3        4  157430         room   \n",
       "\n",
       "       tag                         uri  \n",
       "0    EBU3B  /admin/api/contexts/155971  \n",
       "1     Main       /admin/api/contexts/2  \n",
       "2    Flr-3  /admin/api/contexts/156189  \n",
       "3     UCSD       /admin/api/contexts/1  \n",
       "4  RM-3xxx  /admin/api/contexts/157430  "
      ]
     },
     "execution_count": 22,
     "metadata": {},
     "output_type": "execute_result"
    }
   ],
   "source": [
    "df_contexts_flat.head(5)"
   ]
  },
  {
   "cell_type": "code",
   "execution_count": 23,
   "metadata": {
    "collapsed": false
   },
   "outputs": [
    {
     "data": {
      "text/plain": [
       "<matplotlib.axes._subplots.AxesSubplot at 0x12f668f10>"
      ]
     },
     "execution_count": 23,
     "metadata": {},
     "output_type": "execute_result"
    },
    {
     "data": {
      "image/png": "[encoded data removed]",
      "text/plain": [
       "<matplotlib.figure.Figure at 0x12f699350>"
      ]
     },
     "metadata": {},
     "output_type": "display_data"
    }
   ],
   "source": [
    "df_contexts_flat.keyword.value_counts().plot(kind='bar')"
   ]
  },
  {
   "cell_type": "code",
   "execution_count": 24,
   "metadata": {
    "collapsed": false
   },
   "outputs": [],
   "source": [
    "#df_contexts_flat[(df_contexts_flat.keyword == 'room')].sort_values(by='id')"
   ]
  },
  {
   "cell_type": "markdown",
   "metadata": {},
   "source": [
    "## Sensorpoints"
   ]
  },
  {
   "cell_type": "code",
   "execution_count": 25,
   "metadata": {
    "collapsed": true
   },
   "outputs": [],
   "source": [
    "dict_col = df_tags_by_rows.pop('sensorpoints')\n",
    "df_sensorpoints = pd.DataFrame(dict_col)"
   ]
  },
  {
   "cell_type": "code",
   "execution_count": 26,
   "metadata": {
    "collapsed": false
   },
   "outputs": [],
   "source": [
    "dict_col = df_sensorpoints.pop('sensorpoints')\n",
    "df_sensorpoints = pd.concat([df_sensorpoints, dict_col.apply(pd.Series)], axis=1)\n",
    "df_sensorpoints = pd.DataFrame(df_sensorpoints.stack())"
   ]
  },
  {
   "cell_type": "code",
   "execution_count": 27,
   "metadata": {
    "collapsed": false
   },
   "outputs": [],
   "source": [
    "df_sensorpoints.columns = ['sensor_inner']\n",
    "dict_col = df_sensorpoints.pop('sensor_inner')\n",
    "df_sensorpoints = pd.concat([df_contexts, dict_col.apply(pd.Series)], axis=1)\n",
    "df_sensorpoints_flat = df_sensorpoints.reset_index()"
   ]
  },
  {
   "cell_type": "code",
   "execution_count": 28,
   "metadata": {
    "collapsed": false
   },
   "outputs": [
    {
     "data": {
      "text/html": [
       "<div>\n",
       "<table border=\"1\" class=\"dataframe\">\n",
       "  <thead>\n",
       "    <tr style=\"text-align: right;\">\n",
       "      <th></th>\n",
       "      <th>level_0</th>\n",
       "      <th>level_1</th>\n",
       "      <th>id</th>\n",
       "      <th>keyword</th>\n",
       "      <th>tag</th>\n",
       "      <th>uri</th>\n",
       "      <th>active</th>\n",
       "      <th>created_time</th>\n",
       "      <th>data_type</th>\n",
       "      <th>description</th>\n",
       "      <th>...</th>\n",
       "      <th>max_val</th>\n",
       "      <th>min_val</th>\n",
       "      <th>readonly</th>\n",
       "      <th>shorthand_unit</th>\n",
       "      <th>timeseries_span</th>\n",
       "      <th>timeseries_type</th>\n",
       "      <th>type</th>\n",
       "      <th>unit</th>\n",
       "      <th>update_period</th>\n",
       "      <th>uri</th>\n",
       "    </tr>\n",
       "  </thead>\n",
       "  <tbody>\n",
       "    <tr>\n",
       "      <th>0</th>\n",
       "      <td>000581ec-54ef-4a5f-ae10-706817b7efe3</td>\n",
       "      <td>0</td>\n",
       "      <td>155971</td>\n",
       "      <td>building</td>\n",
       "      <td>EBU3B</td>\n",
       "      <td>/admin/api/contexts/155971</td>\n",
       "      <td>True</td>\n",
       "      <td>2014-08-19T20:56:32+00:00</td>\n",
       "      <td>int</td>\n",
       "      <td>PresentValue</td>\n",
       "      <td>...</td>\n",
       "      <td>0</td>\n",
       "      <td>0</td>\n",
       "      <td>False</td>\n",
       "      <td>None</td>\n",
       "      <td>{u'begin': u'2014-08-19T20:56:32+00:00', u'end...</td>\n",
       "      <td>continuous</td>\n",
       "      <td>PresentValue</td>\n",
       "      <td>None</td>\n",
       "      <td>0</td>\n",
       "      <td>/admin/api/sensors/000581ec-54ef-4a5f-ae10-706...</td>\n",
       "    </tr>\n",
       "    <tr>\n",
       "      <th>1</th>\n",
       "      <td>000581ec-54ef-4a5f-ae10-706817b7efe3</td>\n",
       "      <td>1</td>\n",
       "      <td>2</td>\n",
       "      <td>campus</td>\n",
       "      <td>Main</td>\n",
       "      <td>/admin/api/contexts/2</td>\n",
       "      <td>NaN</td>\n",
       "      <td>NaN</td>\n",
       "      <td>NaN</td>\n",
       "      <td>NaN</td>\n",
       "      <td>...</td>\n",
       "      <td>NaN</td>\n",
       "      <td>NaN</td>\n",
       "      <td>NaN</td>\n",
       "      <td>NaN</td>\n",
       "      <td>NaN</td>\n",
       "      <td>NaN</td>\n",
       "      <td>NaN</td>\n",
       "      <td>NaN</td>\n",
       "      <td>NaN</td>\n",
       "      <td>NaN</td>\n",
       "    </tr>\n",
       "  </tbody>\n",
       "</table>\n",
       "<p>2 rows × 22 columns</p>\n",
       "</div>"
      ],
      "text/plain": [
       "                                level_0  level_1      id   keyword    tag  \\\n",
       "0  000581ec-54ef-4a5f-ae10-706817b7efe3        0  155971  building  EBU3B   \n",
       "1  000581ec-54ef-4a5f-ae10-706817b7efe3        1       2    campus   Main   \n",
       "\n",
       "                          uri active               created_time data_type  \\\n",
       "0  /admin/api/contexts/155971   True  2014-08-19T20:56:32+00:00       int   \n",
       "1       /admin/api/contexts/2    NaN                        NaN       NaN   \n",
       "\n",
       "    description                        ...                         max_val  \\\n",
       "0  PresentValue                        ...                               0   \n",
       "1           NaN                        ...                             NaN   \n",
       "\n",
       "  min_val  readonly  shorthand_unit  \\\n",
       "0       0     False            None   \n",
       "1     NaN       NaN             NaN   \n",
       "\n",
       "                                     timeseries_span timeseries_type  \\\n",
       "0  {u'begin': u'2014-08-19T20:56:32+00:00', u'end...      continuous   \n",
       "1                                                NaN             NaN   \n",
       "\n",
       "           type  unit update_period  \\\n",
       "0  PresentValue  None             0   \n",
       "1           NaN   NaN           NaN   \n",
       "\n",
       "                                                 uri  \n",
       "0  /admin/api/sensors/000581ec-54ef-4a5f-ae10-706...  \n",
       "1                                                NaN  \n",
       "\n",
       "[2 rows x 22 columns]"
      ]
     },
     "execution_count": 28,
     "metadata": {},
     "output_type": "execute_result"
    }
   ],
   "source": [
    "df_sensorpoints_flat.head(2)"
   ]
  },
  {
   "cell_type": "code",
   "execution_count": 29,
   "metadata": {
    "collapsed": false
   },
   "outputs": [],
   "source": [
    "dict_col = df_sensorpoints_flat.pop('timeseries_span')\n",
    "df_sensorpoints_flat = pd.concat([df_sensorpoints_flat, dict_col.apply(pd.Series)], axis=1)\n",
    "#df_sensorpoints_flat = pd.DataFrame(df_sensorpoints_flat.stack())\n"
   ]
  },
  {
   "cell_type": "code",
   "execution_count": null,
   "metadata": {
    "collapsed": false
   },
   "outputs": [],
   "source": []
  },
  {
   "cell_type": "code",
   "execution_count": 57,
   "metadata": {
    "collapsed": false
   },
   "outputs": [
    {
     "data": {
      "text/html": [
       "<div>\n",
       "<table border=\"1\" class=\"dataframe\">\n",
       "  <thead>\n",
       "    <tr style=\"text-align: right;\">\n",
       "      <th></th>\n",
       "      <th>level_0</th>\n",
       "      <th>level_1</th>\n",
       "      <th>id</th>\n",
       "      <th>keyword</th>\n",
       "      <th>tag</th>\n",
       "      <th>uri</th>\n",
       "      <th>active</th>\n",
       "      <th>created_time</th>\n",
       "      <th>data_type</th>\n",
       "      <th>description</th>\n",
       "      <th>...</th>\n",
       "      <th>readonly</th>\n",
       "      <th>shorthand_unit</th>\n",
       "      <th>timeseries_type</th>\n",
       "      <th>type</th>\n",
       "      <th>unit</th>\n",
       "      <th>update_period</th>\n",
       "      <th>uri</th>\n",
       "      <th>0</th>\n",
       "      <th>begin</th>\n",
       "      <th>end</th>\n",
       "    </tr>\n",
       "  </thead>\n",
       "  <tbody>\n",
       "    <tr>\n",
       "      <th>0</th>\n",
       "      <td>000581ec-54ef-4a5f-ae10-706817b7efe3</td>\n",
       "      <td>0</td>\n",
       "      <td>155971</td>\n",
       "      <td>building</td>\n",
       "      <td>EBU3B</td>\n",
       "      <td>/admin/api/contexts/155971</td>\n",
       "      <td>True</td>\n",
       "      <td>2014-08-19T20:56:32+00:00</td>\n",
       "      <td>int</td>\n",
       "      <td>PresentValue</td>\n",
       "      <td>...</td>\n",
       "      <td>False</td>\n",
       "      <td>None</td>\n",
       "      <td>continuous</td>\n",
       "      <td>PresentValue</td>\n",
       "      <td>None</td>\n",
       "      <td>0</td>\n",
       "      <td>/admin/api/sensors/000581ec-54ef-4a5f-ae10-706...</td>\n",
       "      <td>NaN</td>\n",
       "      <td>2014-08-19T20:56:32+00:00</td>\n",
       "      <td>2015-12-23T02:18:43+00:00</td>\n",
       "    </tr>\n",
       "    <tr>\n",
       "      <th>1</th>\n",
       "      <td>000581ec-54ef-4a5f-ae10-706817b7efe3</td>\n",
       "      <td>1</td>\n",
       "      <td>2</td>\n",
       "      <td>campus</td>\n",
       "      <td>Main</td>\n",
       "      <td>/admin/api/contexts/2</td>\n",
       "      <td>NaN</td>\n",
       "      <td>NaN</td>\n",
       "      <td>NaN</td>\n",
       "      <td>NaN</td>\n",
       "      <td>...</td>\n",
       "      <td>NaN</td>\n",
       "      <td>NaN</td>\n",
       "      <td>NaN</td>\n",
       "      <td>NaN</td>\n",
       "      <td>NaN</td>\n",
       "      <td>NaN</td>\n",
       "      <td>NaN</td>\n",
       "      <td>NaN</td>\n",
       "      <td>NaN</td>\n",
       "      <td>NaN</td>\n",
       "    </tr>\n",
       "    <tr>\n",
       "      <th>2</th>\n",
       "      <td>000581ec-54ef-4a5f-ae10-706817b7efe3</td>\n",
       "      <td>2</td>\n",
       "      <td>156189</td>\n",
       "      <td>floor</td>\n",
       "      <td>Flr-3</td>\n",
       "      <td>/admin/api/contexts/156189</td>\n",
       "      <td>NaN</td>\n",
       "      <td>NaN</td>\n",
       "      <td>NaN</td>\n",
       "      <td>NaN</td>\n",
       "      <td>...</td>\n",
       "      <td>NaN</td>\n",
       "      <td>NaN</td>\n",
       "      <td>NaN</td>\n",
       "      <td>NaN</td>\n",
       "      <td>NaN</td>\n",
       "      <td>NaN</td>\n",
       "      <td>NaN</td>\n",
       "      <td>NaN</td>\n",
       "      <td>NaN</td>\n",
       "      <td>NaN</td>\n",
       "    </tr>\n",
       "    <tr>\n",
       "      <th>3</th>\n",
       "      <td>000581ec-54ef-4a5f-ae10-706817b7efe3</td>\n",
       "      <td>3</td>\n",
       "      <td>1</td>\n",
       "      <td>institution</td>\n",
       "      <td>UCSD</td>\n",
       "      <td>/admin/api/contexts/1</td>\n",
       "      <td>NaN</td>\n",
       "      <td>NaN</td>\n",
       "      <td>NaN</td>\n",
       "      <td>NaN</td>\n",
       "      <td>...</td>\n",
       "      <td>NaN</td>\n",
       "      <td>NaN</td>\n",
       "      <td>NaN</td>\n",
       "      <td>NaN</td>\n",
       "      <td>NaN</td>\n",
       "      <td>NaN</td>\n",
       "      <td>NaN</td>\n",
       "      <td>NaN</td>\n",
       "      <td>NaN</td>\n",
       "      <td>NaN</td>\n",
       "    </tr>\n",
       "    <tr>\n",
       "      <th>4</th>\n",
       "      <td>000581ec-54ef-4a5f-ae10-706817b7efe3</td>\n",
       "      <td>4</td>\n",
       "      <td>157430</td>\n",
       "      <td>room</td>\n",
       "      <td>RM-3xxx</td>\n",
       "      <td>/admin/api/contexts/157430</td>\n",
       "      <td>NaN</td>\n",
       "      <td>NaN</td>\n",
       "      <td>NaN</td>\n",
       "      <td>NaN</td>\n",
       "      <td>...</td>\n",
       "      <td>NaN</td>\n",
       "      <td>NaN</td>\n",
       "      <td>NaN</td>\n",
       "      <td>NaN</td>\n",
       "      <td>NaN</td>\n",
       "      <td>NaN</td>\n",
       "      <td>NaN</td>\n",
       "      <td>NaN</td>\n",
       "      <td>NaN</td>\n",
       "      <td>NaN</td>\n",
       "    </tr>\n",
       "    <tr>\n",
       "      <th>5</th>\n",
       "      <td>00138452-8623-11e3-9443-00163e005319</td>\n",
       "      <td>0</td>\n",
       "      <td>155971</td>\n",
       "      <td>building</td>\n",
       "      <td>EBU3B</td>\n",
       "      <td>/admin/api/contexts/155971</td>\n",
       "      <td>False</td>\n",
       "      <td>2014-01-26T11:25:02+00:00</td>\n",
       "      <td>int</td>\n",
       "      <td>PresentValue</td>\n",
       "      <td>...</td>\n",
       "      <td>False</td>\n",
       "      <td>None</td>\n",
       "      <td>continuous</td>\n",
       "      <td>PresentValue</td>\n",
       "      <td>None</td>\n",
       "      <td>NaN</td>\n",
       "      <td>/admin/api/sensors/00138452-8623-11e3-9443-001...</td>\n",
       "      <td>NaN</td>\n",
       "      <td>2014-01-27T02:05:57+00:00</td>\n",
       "      <td>2014-01-27T02:05:57+00:00</td>\n",
       "    </tr>\n",
       "    <tr>\n",
       "      <th>6</th>\n",
       "      <td>00138452-8623-11e3-9443-00163e005319</td>\n",
       "      <td>1</td>\n",
       "      <td>2</td>\n",
       "      <td>campus</td>\n",
       "      <td>Main</td>\n",
       "      <td>/admin/api/contexts/2</td>\n",
       "      <td>False</td>\n",
       "      <td>2014-01-26T11:25:02+00:00</td>\n",
       "      <td>string</td>\n",
       "      <td>Related Rules</td>\n",
       "      <td>...</td>\n",
       "      <td>False</td>\n",
       "      <td>None</td>\n",
       "      <td>discrete</td>\n",
       "      <td>Related Rules</td>\n",
       "      <td>None</td>\n",
       "      <td>NaN</td>\n",
       "      <td>/admin/api/sensors/00138452-8623-11e3-9443-001...</td>\n",
       "      <td>NaN</td>\n",
       "      <td>None</td>\n",
       "      <td>None</td>\n",
       "    </tr>\n",
       "    <tr>\n",
       "      <th>7</th>\n",
       "      <td>00138452-8623-11e3-9443-00163e005319</td>\n",
       "      <td>2</td>\n",
       "      <td>156956</td>\n",
       "      <td>floor</td>\n",
       "      <td>3250</td>\n",
       "      <td>/admin/api/contexts/156956</td>\n",
       "      <td>False</td>\n",
       "      <td>2014-03-08T00:51:26+00:00</td>\n",
       "      <td>string</td>\n",
       "      <td>Status</td>\n",
       "      <td>...</td>\n",
       "      <td>False</td>\n",
       "      <td>None</td>\n",
       "      <td>discrete</td>\n",
       "      <td>Status</td>\n",
       "      <td>None</td>\n",
       "      <td>NaN</td>\n",
       "      <td>/admin/api/sensors/00138452-8623-11e3-9443-001...</td>\n",
       "      <td>NaN</td>\n",
       "      <td>None</td>\n",
       "      <td>None</td>\n",
       "    </tr>\n",
       "    <tr>\n",
       "      <th>8</th>\n",
       "      <td>00138452-8623-11e3-9443-00163e005319</td>\n",
       "      <td>3</td>\n",
       "      <td>1</td>\n",
       "      <td>institution</td>\n",
       "      <td>UCSD</td>\n",
       "      <td>/admin/api/contexts/1</td>\n",
       "      <td>False</td>\n",
       "      <td>2014-01-26T11:25:02+00:00</td>\n",
       "      <td>int</td>\n",
       "      <td>Vote</td>\n",
       "      <td>...</td>\n",
       "      <td>False</td>\n",
       "      <td>None</td>\n",
       "      <td>continuous</td>\n",
       "      <td>Vote</td>\n",
       "      <td>None</td>\n",
       "      <td>NaN</td>\n",
       "      <td>/admin/api/sensors/00138452-8623-11e3-9443-001...</td>\n",
       "      <td>NaN</td>\n",
       "      <td>2014-01-27T02:05:57+00:00</td>\n",
       "      <td>2014-01-27T02:05:57+00:00</td>\n",
       "    </tr>\n",
       "    <tr>\n",
       "      <th>9</th>\n",
       "      <td>00138452-8623-11e3-9443-00163e005319</td>\n",
       "      <td>4</td>\n",
       "      <td>157052</td>\n",
       "      <td>room</td>\n",
       "      <td>Damper Position</td>\n",
       "      <td>/admin/api/contexts/157052</td>\n",
       "      <td>NaN</td>\n",
       "      <td>NaN</td>\n",
       "      <td>NaN</td>\n",
       "      <td>NaN</td>\n",
       "      <td>...</td>\n",
       "      <td>NaN</td>\n",
       "      <td>NaN</td>\n",
       "      <td>NaN</td>\n",
       "      <td>NaN</td>\n",
       "      <td>NaN</td>\n",
       "      <td>NaN</td>\n",
       "      <td>NaN</td>\n",
       "      <td>NaN</td>\n",
       "      <td>NaN</td>\n",
       "      <td>NaN</td>\n",
       "    </tr>\n",
       "    <tr>\n",
       "      <th>10</th>\n",
       "      <td>0017902c-74c9-11e2-b454-00163e005319</td>\n",
       "      <td>0</td>\n",
       "      <td>155971</td>\n",
       "      <td>building</td>\n",
       "      <td>EBU3B</td>\n",
       "      <td>/admin/api/contexts/155971</td>\n",
       "      <td>True</td>\n",
       "      <td>2013-01-01T00:00:00+00:00</td>\n",
       "      <td>int</td>\n",
       "      <td>PresentValue</td>\n",
       "      <td>...</td>\n",
       "      <td>False</td>\n",
       "      <td>None</td>\n",
       "      <td>continuous</td>\n",
       "      <td>PresentValue</td>\n",
       "      <td>None</td>\n",
       "      <td>NaN</td>\n",
       "      <td>/admin/api/sensors/0017902c-74c9-11e2-b454-001...</td>\n",
       "      <td>NaN</td>\n",
       "      <td>2013-02-17T19:09:27+00:00</td>\n",
       "      <td>2015-12-22T23:59:43+00:00</td>\n",
       "    </tr>\n",
       "    <tr>\n",
       "      <th>11</th>\n",
       "      <td>0017902c-74c9-11e2-b454-00163e005319</td>\n",
       "      <td>1</td>\n",
       "      <td>2</td>\n",
       "      <td>campus</td>\n",
       "      <td>Main</td>\n",
       "      <td>/admin/api/contexts/2</td>\n",
       "      <td>NaN</td>\n",
       "      <td>NaN</td>\n",
       "      <td>NaN</td>\n",
       "      <td>NaN</td>\n",
       "      <td>...</td>\n",
       "      <td>NaN</td>\n",
       "      <td>NaN</td>\n",
       "      <td>NaN</td>\n",
       "      <td>NaN</td>\n",
       "      <td>NaN</td>\n",
       "      <td>NaN</td>\n",
       "      <td>NaN</td>\n",
       "      <td>NaN</td>\n",
       "      <td>NaN</td>\n",
       "      <td>NaN</td>\n",
       "    </tr>\n",
       "    <tr>\n",
       "      <th>12</th>\n",
       "      <td>0017902c-74c9-11e2-b454-00163e005319</td>\n",
       "      <td>2</td>\n",
       "      <td>156152</td>\n",
       "      <td>floor</td>\n",
       "      <td>Basement</td>\n",
       "      <td>/admin/api/contexts/156152</td>\n",
       "      <td>NaN</td>\n",
       "      <td>NaN</td>\n",
       "      <td>NaN</td>\n",
       "      <td>NaN</td>\n",
       "      <td>...</td>\n",
       "      <td>NaN</td>\n",
       "      <td>NaN</td>\n",
       "      <td>NaN</td>\n",
       "      <td>NaN</td>\n",
       "      <td>NaN</td>\n",
       "      <td>NaN</td>\n",
       "      <td>NaN</td>\n",
       "      <td>NaN</td>\n",
       "      <td>NaN</td>\n",
       "      <td>NaN</td>\n",
       "    </tr>\n",
       "    <tr>\n",
       "      <th>13</th>\n",
       "      <td>0017902c-74c9-11e2-b454-00163e005319</td>\n",
       "      <td>3</td>\n",
       "      <td>1</td>\n",
       "      <td>institution</td>\n",
       "      <td>UCSD</td>\n",
       "      <td>/admin/api/contexts/1</td>\n",
       "      <td>NaN</td>\n",
       "      <td>NaN</td>\n",
       "      <td>NaN</td>\n",
       "      <td>NaN</td>\n",
       "      <td>...</td>\n",
       "      <td>NaN</td>\n",
       "      <td>NaN</td>\n",
       "      <td>NaN</td>\n",
       "      <td>NaN</td>\n",
       "      <td>NaN</td>\n",
       "      <td>NaN</td>\n",
       "      <td>NaN</td>\n",
       "      <td>NaN</td>\n",
       "      <td>NaN</td>\n",
       "      <td>NaN</td>\n",
       "    </tr>\n",
       "    <tr>\n",
       "      <th>14</th>\n",
       "      <td>0017902c-74c9-11e2-b454-00163e005319</td>\n",
       "      <td>4</td>\n",
       "      <td>155985</td>\n",
       "      <td>room</td>\n",
       "      <td>RM-B210</td>\n",
       "      <td>/admin/api/contexts/155985</td>\n",
       "      <td>NaN</td>\n",
       "      <td>NaN</td>\n",
       "      <td>NaN</td>\n",
       "      <td>NaN</td>\n",
       "      <td>...</td>\n",
       "      <td>NaN</td>\n",
       "      <td>NaN</td>\n",
       "      <td>NaN</td>\n",
       "      <td>NaN</td>\n",
       "      <td>NaN</td>\n",
       "      <td>NaN</td>\n",
       "      <td>NaN</td>\n",
       "      <td>NaN</td>\n",
       "      <td>NaN</td>\n",
       "      <td>NaN</td>\n",
       "    </tr>\n",
       "    <tr>\n",
       "      <th>15</th>\n",
       "      <td>001a5e8e-77de-11e2-bad4-00163e005319</td>\n",
       "      <td>0</td>\n",
       "      <td>155971</td>\n",
       "      <td>building</td>\n",
       "      <td>EBU3B</td>\n",
       "      <td>/admin/api/contexts/155971</td>\n",
       "      <td>True</td>\n",
       "      <td>2013-01-01T00:00:00+00:00</td>\n",
       "      <td>int</td>\n",
       "      <td>PresentValue</td>\n",
       "      <td>...</td>\n",
       "      <td>False</td>\n",
       "      <td>None</td>\n",
       "      <td>continuous</td>\n",
       "      <td>PresentValue</td>\n",
       "      <td>None</td>\n",
       "      <td>NaN</td>\n",
       "      <td>/admin/api/sensors/001a5e8e-77de-11e2-bad4-001...</td>\n",
       "      <td>NaN</td>\n",
       "      <td>2013-07-02T01:12:56+00:00</td>\n",
       "      <td>2014-03-28T18:08:04+00:00</td>\n",
       "    </tr>\n",
       "    <tr>\n",
       "      <th>16</th>\n",
       "      <td>001a5e8e-77de-11e2-bad4-00163e005319</td>\n",
       "      <td>1</td>\n",
       "      <td>2</td>\n",
       "      <td>campus</td>\n",
       "      <td>Main</td>\n",
       "      <td>/admin/api/contexts/2</td>\n",
       "      <td>NaN</td>\n",
       "      <td>NaN</td>\n",
       "      <td>NaN</td>\n",
       "      <td>NaN</td>\n",
       "      <td>...</td>\n",
       "      <td>NaN</td>\n",
       "      <td>NaN</td>\n",
       "      <td>NaN</td>\n",
       "      <td>NaN</td>\n",
       "      <td>NaN</td>\n",
       "      <td>NaN</td>\n",
       "      <td>NaN</td>\n",
       "      <td>NaN</td>\n",
       "      <td>NaN</td>\n",
       "      <td>NaN</td>\n",
       "    </tr>\n",
       "    <tr>\n",
       "      <th>17</th>\n",
       "      <td>001a5e8e-77de-11e2-bad4-00163e005319</td>\n",
       "      <td>2</td>\n",
       "      <td>156158</td>\n",
       "      <td>floor</td>\n",
       "      <td>Flr-2</td>\n",
       "      <td>/admin/api/contexts/156158</td>\n",
       "      <td>NaN</td>\n",
       "      <td>NaN</td>\n",
       "      <td>NaN</td>\n",
       "      <td>NaN</td>\n",
       "      <td>...</td>\n",
       "      <td>NaN</td>\n",
       "      <td>NaN</td>\n",
       "      <td>NaN</td>\n",
       "      <td>NaN</td>\n",
       "      <td>NaN</td>\n",
       "      <td>NaN</td>\n",
       "      <td>NaN</td>\n",
       "      <td>NaN</td>\n",
       "      <td>NaN</td>\n",
       "      <td>NaN</td>\n",
       "    </tr>\n",
       "    <tr>\n",
       "      <th>18</th>\n",
       "      <td>001a5e8e-77de-11e2-bad4-00163e005319</td>\n",
       "      <td>3</td>\n",
       "      <td>1</td>\n",
       "      <td>institution</td>\n",
       "      <td>UCSD</td>\n",
       "      <td>/admin/api/contexts/1</td>\n",
       "      <td>NaN</td>\n",
       "      <td>NaN</td>\n",
       "      <td>NaN</td>\n",
       "      <td>NaN</td>\n",
       "      <td>...</td>\n",
       "      <td>NaN</td>\n",
       "      <td>NaN</td>\n",
       "      <td>NaN</td>\n",
       "      <td>NaN</td>\n",
       "      <td>NaN</td>\n",
       "      <td>NaN</td>\n",
       "      <td>NaN</td>\n",
       "      <td>NaN</td>\n",
       "      <td>NaN</td>\n",
       "      <td>NaN</td>\n",
       "    </tr>\n",
       "    <tr>\n",
       "      <th>19</th>\n",
       "      <td>001a5e8e-77de-11e2-bad4-00163e005319</td>\n",
       "      <td>4</td>\n",
       "      <td>156172</td>\n",
       "      <td>room</td>\n",
       "      <td>Rm-2122</td>\n",
       "      <td>/admin/api/contexts/156172</td>\n",
       "      <td>NaN</td>\n",
       "      <td>NaN</td>\n",
       "      <td>NaN</td>\n",
       "      <td>NaN</td>\n",
       "      <td>...</td>\n",
       "      <td>NaN</td>\n",
       "      <td>NaN</td>\n",
       "      <td>NaN</td>\n",
       "      <td>NaN</td>\n",
       "      <td>NaN</td>\n",
       "      <td>NaN</td>\n",
       "      <td>NaN</td>\n",
       "      <td>NaN</td>\n",
       "      <td>NaN</td>\n",
       "      <td>NaN</td>\n",
       "    </tr>\n",
       "  </tbody>\n",
       "</table>\n",
       "<p>20 rows × 24 columns</p>\n",
       "</div>"
      ],
      "text/plain": [
       "                                 level_0  level_1      id      keyword  \\\n",
       "0   000581ec-54ef-4a5f-ae10-706817b7efe3        0  155971     building   \n",
       "1   000581ec-54ef-4a5f-ae10-706817b7efe3        1       2       campus   \n",
       "2   000581ec-54ef-4a5f-ae10-706817b7efe3        2  156189        floor   \n",
       "3   000581ec-54ef-4a5f-ae10-706817b7efe3        3       1  institution   \n",
       "4   000581ec-54ef-4a5f-ae10-706817b7efe3        4  157430         room   \n",
       "5   00138452-8623-11e3-9443-00163e005319        0  155971     building   \n",
       "6   00138452-8623-11e3-9443-00163e005319        1       2       campus   \n",
       "7   00138452-8623-11e3-9443-00163e005319        2  156956        floor   \n",
       "8   00138452-8623-11e3-9443-00163e005319        3       1  institution   \n",
       "9   00138452-8623-11e3-9443-00163e005319        4  157052         room   \n",
       "10  0017902c-74c9-11e2-b454-00163e005319        0  155971     building   \n",
       "11  0017902c-74c9-11e2-b454-00163e005319        1       2       campus   \n",
       "12  0017902c-74c9-11e2-b454-00163e005319        2  156152        floor   \n",
       "13  0017902c-74c9-11e2-b454-00163e005319        3       1  institution   \n",
       "14  0017902c-74c9-11e2-b454-00163e005319        4  155985         room   \n",
       "15  001a5e8e-77de-11e2-bad4-00163e005319        0  155971     building   \n",
       "16  001a5e8e-77de-11e2-bad4-00163e005319        1       2       campus   \n",
       "17  001a5e8e-77de-11e2-bad4-00163e005319        2  156158        floor   \n",
       "18  001a5e8e-77de-11e2-bad4-00163e005319        3       1  institution   \n",
       "19  001a5e8e-77de-11e2-bad4-00163e005319        4  156172         room   \n",
       "\n",
       "                tag                         uri active  \\\n",
       "0             EBU3B  /admin/api/contexts/155971   True   \n",
       "1              Main       /admin/api/contexts/2    NaN   \n",
       "2             Flr-3  /admin/api/contexts/156189    NaN   \n",
       "3              UCSD       /admin/api/contexts/1    NaN   \n",
       "4           RM-3xxx  /admin/api/contexts/157430    NaN   \n",
       "5             EBU3B  /admin/api/contexts/155971  False   \n",
       "6              Main       /admin/api/contexts/2  False   \n",
       "7              3250  /admin/api/contexts/156956  False   \n",
       "8              UCSD       /admin/api/contexts/1  False   \n",
       "9   Damper Position  /admin/api/contexts/157052    NaN   \n",
       "10            EBU3B  /admin/api/contexts/155971   True   \n",
       "11             Main       /admin/api/contexts/2    NaN   \n",
       "12         Basement  /admin/api/contexts/156152    NaN   \n",
       "13             UCSD       /admin/api/contexts/1    NaN   \n",
       "14          RM-B210  /admin/api/contexts/155985    NaN   \n",
       "15            EBU3B  /admin/api/contexts/155971   True   \n",
       "16             Main       /admin/api/contexts/2    NaN   \n",
       "17            Flr-2  /admin/api/contexts/156158    NaN   \n",
       "18             UCSD       /admin/api/contexts/1    NaN   \n",
       "19          Rm-2122  /admin/api/contexts/156172    NaN   \n",
       "\n",
       "                 created_time data_type    description  \\\n",
       "0   2014-08-19T20:56:32+00:00       int   PresentValue   \n",
       "1                         NaN       NaN            NaN   \n",
       "2                         NaN       NaN            NaN   \n",
       "3                         NaN       NaN            NaN   \n",
       "4                         NaN       NaN            NaN   \n",
       "5   2014-01-26T11:25:02+00:00       int   PresentValue   \n",
       "6   2014-01-26T11:25:02+00:00    string  Related Rules   \n",
       "7   2014-03-08T00:51:26+00:00    string         Status   \n",
       "8   2014-01-26T11:25:02+00:00       int           Vote   \n",
       "9                         NaN       NaN            NaN   \n",
       "10  2013-01-01T00:00:00+00:00       int   PresentValue   \n",
       "11                        NaN       NaN            NaN   \n",
       "12                        NaN       NaN            NaN   \n",
       "13                        NaN       NaN            NaN   \n",
       "14                        NaN       NaN            NaN   \n",
       "15  2013-01-01T00:00:00+00:00       int   PresentValue   \n",
       "16                        NaN       NaN            NaN   \n",
       "17                        NaN       NaN            NaN   \n",
       "18                        NaN       NaN            NaN   \n",
       "19                        NaN       NaN            NaN   \n",
       "\n",
       "              ...             readonly shorthand_unit  timeseries_type  \\\n",
       "0             ...                False           None       continuous   \n",
       "1             ...                  NaN            NaN              NaN   \n",
       "2             ...                  NaN            NaN              NaN   \n",
       "3             ...                  NaN            NaN              NaN   \n",
       "4             ...                  NaN            NaN              NaN   \n",
       "5             ...                False           None       continuous   \n",
       "6             ...                False           None         discrete   \n",
       "7             ...                False           None         discrete   \n",
       "8             ...                False           None       continuous   \n",
       "9             ...                  NaN            NaN              NaN   \n",
       "10            ...                False           None       continuous   \n",
       "11            ...                  NaN            NaN              NaN   \n",
       "12            ...                  NaN            NaN              NaN   \n",
       "13            ...                  NaN            NaN              NaN   \n",
       "14            ...                  NaN            NaN              NaN   \n",
       "15            ...                False           None       continuous   \n",
       "16            ...                  NaN            NaN              NaN   \n",
       "17            ...                  NaN            NaN              NaN   \n",
       "18            ...                  NaN            NaN              NaN   \n",
       "19            ...                  NaN            NaN              NaN   \n",
       "\n",
       "             type  unit update_period  \\\n",
       "0    PresentValue  None             0   \n",
       "1             NaN   NaN           NaN   \n",
       "2             NaN   NaN           NaN   \n",
       "3             NaN   NaN           NaN   \n",
       "4             NaN   NaN           NaN   \n",
       "5    PresentValue  None           NaN   \n",
       "6   Related Rules  None           NaN   \n",
       "7          Status  None           NaN   \n",
       "8            Vote  None           NaN   \n",
       "9             NaN   NaN           NaN   \n",
       "10   PresentValue  None           NaN   \n",
       "11            NaN   NaN           NaN   \n",
       "12            NaN   NaN           NaN   \n",
       "13            NaN   NaN           NaN   \n",
       "14            NaN   NaN           NaN   \n",
       "15   PresentValue  None           NaN   \n",
       "16            NaN   NaN           NaN   \n",
       "17            NaN   NaN           NaN   \n",
       "18            NaN   NaN           NaN   \n",
       "19            NaN   NaN           NaN   \n",
       "\n",
       "                                                  uri   0  \\\n",
       "0   /admin/api/sensors/000581ec-54ef-4a5f-ae10-706... NaN   \n",
       "1                                                 NaN NaN   \n",
       "2                                                 NaN NaN   \n",
       "3                                                 NaN NaN   \n",
       "4                                                 NaN NaN   \n",
       "5   /admin/api/sensors/00138452-8623-11e3-9443-001... NaN   \n",
       "6   /admin/api/sensors/00138452-8623-11e3-9443-001... NaN   \n",
       "7   /admin/api/sensors/00138452-8623-11e3-9443-001... NaN   \n",
       "8   /admin/api/sensors/00138452-8623-11e3-9443-001... NaN   \n",
       "9                                                 NaN NaN   \n",
       "10  /admin/api/sensors/0017902c-74c9-11e2-b454-001... NaN   \n",
       "11                                                NaN NaN   \n",
       "12                                                NaN NaN   \n",
       "13                                                NaN NaN   \n",
       "14                                                NaN NaN   \n",
       "15  /admin/api/sensors/001a5e8e-77de-11e2-bad4-001... NaN   \n",
       "16                                                NaN NaN   \n",
       "17                                                NaN NaN   \n",
       "18                                                NaN NaN   \n",
       "19                                                NaN NaN   \n",
       "\n",
       "                        begin                        end  \n",
       "0   2014-08-19T20:56:32+00:00  2015-12-23T02:18:43+00:00  \n",
       "1                         NaN                        NaN  \n",
       "2                         NaN                        NaN  \n",
       "3                         NaN                        NaN  \n",
       "4                         NaN                        NaN  \n",
       "5   2014-01-27T02:05:57+00:00  2014-01-27T02:05:57+00:00  \n",
       "6                        None                       None  \n",
       "7                        None                       None  \n",
       "8   2014-01-27T02:05:57+00:00  2014-01-27T02:05:57+00:00  \n",
       "9                         NaN                        NaN  \n",
       "10  2013-02-17T19:09:27+00:00  2015-12-22T23:59:43+00:00  \n",
       "11                        NaN                        NaN  \n",
       "12                        NaN                        NaN  \n",
       "13                        NaN                        NaN  \n",
       "14                        NaN                        NaN  \n",
       "15  2013-07-02T01:12:56+00:00  2014-03-28T18:08:04+00:00  \n",
       "16                        NaN                        NaN  \n",
       "17                        NaN                        NaN  \n",
       "18                        NaN                        NaN  \n",
       "19                        NaN                        NaN  \n",
       "\n",
       "[20 rows x 24 columns]"
      ]
     },
     "execution_count": 57,
     "metadata": {},
     "output_type": "execute_result"
    }
   ],
   "source": [
    "df_sensorpoints_flat.head(20)"
   ]
  },
  {
   "cell_type": "code",
   "execution_count": 46,
   "metadata": {
    "collapsed": false
   },
   "outputs": [
    {
     "data": {
      "text/plain": [
       "11992"
      ]
     },
     "execution_count": 46,
     "metadata": {},
     "output_type": "execute_result"
    }
   ],
   "source": [
    "cnt_sensor = len(df_sensorpoints_flat.level_0.unique())\n",
    "cnt_sensor"
   ]
  },
  {
   "cell_type": "code",
   "execution_count": 71,
   "metadata": {
    "collapsed": false
   },
   "outputs": [],
   "source": [
    "#df_sensorpoints_flat['keyword']\n",
    "cnt_room= df_sensorpoints_flat['tag'].loc[df_sensorpoints_flat['keyword'] == 'room'].nunique()\n",
    "cnt_bldg= df_sensorpoints_flat['tag'].loc[df_sensorpoints_flat['keyword'] == 'building'].nunique()"
   ]
  },
  {
   "cell_type": "code",
   "execution_count": 70,
   "metadata": {
    "collapsed": false
   },
   "outputs": [
    {
     "data": {
      "text/plain": [
       "array([u'UCSD', u'Test_Institution', u'Bizwack Institute'], dtype=object)"
      ]
     },
     "execution_count": 70,
     "metadata": {},
     "output_type": "execute_result"
    }
   ],
   "source": [
    "df_sensorpoints_flat['tag'].loc[df_sensorpoints_flat['keyword'] == 'institution'].unique()"
   ]
  },
  {
   "cell_type": "code",
   "execution_count": 66,
   "metadata": {
    "collapsed": false
   },
   "outputs": [
    {
     "data": {
      "text/html": [
       "<div>\n",
       "<table border=\"1\" class=\"dataframe\">\n",
       "  <thead>\n",
       "    <tr style=\"text-align: right;\">\n",
       "      <th></th>\n",
       "      <th>no_of_building</th>\n",
       "      <th>no_of_room</th>\n",
       "      <th>no_of_sensor</th>\n",
       "    </tr>\n",
       "  </thead>\n",
       "  <tbody>\n",
       "    <tr>\n",
       "      <th>0</th>\n",
       "      <td>7</td>\n",
       "      <td>734</td>\n",
       "      <td>11992</td>\n",
       "    </tr>\n",
       "  </tbody>\n",
       "</table>\n",
       "</div>"
      ],
      "text/plain": [
       "   no_of_building  no_of_room  no_of_sensor\n",
       "0               7         734         11992"
      ]
     },
     "execution_count": 66,
     "metadata": {},
     "output_type": "execute_result"
    }
   ],
   "source": [
    "df_data = pd.DataFrame({'no_of_sensor':[cnt_sensor],'no_of_room':[cnt_room],'no_of_building':[cnt_bldg]})\n",
    "df_data"
   ]
  },
  {
   "cell_type": "code",
   "execution_count": null,
   "metadata": {
    "collapsed": false
   },
   "outputs": [],
   "source": [
    "#framelist=[]\n",
    "#i = 0 \n",
    "#for  row in df_tags_by_rows['sensorpoints']:\n",
    "#    i = i+1\n",
    "#    df  = pd.DataFrame(row)\n",
    "#    framelist.append(df)\n",
    "#df_sensorpoints = pd.concat(framelist)"
   ]
  },
  {
   "cell_type": "code",
   "execution_count": null,
   "metadata": {
    "collapsed": true
   },
   "outputs": [],
   "source": []
  },
  {
   "cell_type": "markdown",
   "metadata": {},
   "source": [
    "## Contexts"
   ]
  },
  {
   "cell_type": "code",
   "execution_count": null,
   "metadata": {
    "collapsed": true
   },
   "outputs": [],
   "source": [
    "framelist_contexts=[]\n",
    "\n",
    "i = 0 \n",
    "for  row in df_tags_by_rows['contexts']:\n",
    "    i = i+1\n",
    "    df_contexts  = pd.DataFrame(row)\n",
    "    framelist_contexts.append(df_contexts)\n",
    "df_framelist_contexts = pd.concat(framelist_contexts)"
   ]
  },
  {
   "cell_type": "code",
   "execution_count": null,
   "metadata": {
    "collapsed": false
   },
   "outputs": [],
   "source": [
    "dict_col = df_sensorpoints.pop('timeseries_span')"
   ]
  },
  {
   "cell_type": "code",
   "execution_count": null,
   "metadata": {
    "collapsed": false
   },
   "outputs": [],
   "source": [
    "pd.concat([df_sensorpoints, dict_col.apply(pd.Series)], axis=1)"
   ]
  },
  {
   "cell_type": "code",
   "execution_count": null,
   "metadata": {
    "collapsed": true
   },
   "outputs": [],
   "source": [
    "dict_col = df_sensorpoints.pop('latest_datapoint')\n",
    "pd.concat([df_sensorpoints, dict_col.apply(pd.Series)], axis=1)"
   ]
  },
  {
   "cell_type": "code",
   "execution_count": null,
   "metadata": {
    "collapsed": false
   },
   "outputs": [],
   "source": [
    "pd.concat([df_sensorpoints, dict_col.apply(pd.Series)], axis=1)"
   ]
  },
  {
   "cell_type": "code",
   "execution_count": null,
   "metadata": {
    "collapsed": false
   },
   "outputs": [],
   "source": [
    "df_tags.iloc[[5]].T"
   ]
  }
 ],
 "metadata": {
  "kernelspec": {
   "display_name": "Python 2",
   "language": "python",
   "name": "python2"
  },
  "language_info": {
   "codemirror_mode": {
    "name": "ipython",
    "version": 2
   },
   "file_extension": ".py",
   "mimetype": "text/x-python",
   "name": "python",
   "nbconvert_exporter": "python",
   "pygments_lexer": "ipython2",
   "version": "2.7.11"
  }
 },
 "nbformat": 4,
 "nbformat_minor": 0
}
